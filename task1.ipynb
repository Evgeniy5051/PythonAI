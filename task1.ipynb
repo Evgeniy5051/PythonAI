{
 "cells": [
  {
   "cell_type": "code",
   "execution_count": 6,
   "metadata": {},
   "outputs": [],
   "source": [
    "import requests, json, urllib.parse, dateutil.parser, statistics\n",
    "\n",
    "base_url = 'https://itunes.apple.com/search'\n",
    "\n",
    "artist = 'oxxymiron'\n",
    "\n",
    "params = {\n",
    "    'term': artist,\n",
    "    'limit': 200,    \n",
    "    'media': 'music',\n",
    "    'entity': 'song',\n",
    "    'attribute': 'artistTerm'\n",
    "}\n",
    "\n",
    "response = requests.get(f\"{base_url}?{urllib.parse.urlencode(params)}\")\n",
    "\n",
    "data = json.loads(response.text)\n",
    "data = data['results']"
   ]
  },
  {
   "cell_type": "code",
   "execution_count": 7,
   "metadata": {},
   "outputs": [],
   "source": [
    "data = list( map( lambda x: {**x, 'releaseDate': dateutil.parser.isoparse(x['releaseDate'])}, data ) )\n",
    "\n",
    "data = list( map( lambda x: {\n",
    "    'artistName': x['artistName'],\n",
    "    'kind' : x['kind'],\n",
    "    'artistId': x['artistId'],\n",
    "    'collectionId': x['collectionId'],\n",
    "    'trackId': x['trackId'],\n",
    "    'artistName': x['artistName'],\n",
    "    'collectionName': x['collectionName'],\n",
    "    'trackName': x['trackName'],\n",
    "    'collectionPrice': x['collectionPrice'],\n",
    "    'trackPrice': x['trackPrice'],\n",
    "    'releaseDate': x['releaseDate'],\n",
    "    'trackCount': x['trackCount'],\n",
    "    'trackNumber': x['trackNumber'],\n",
    "    'trackTimeMillis': x['trackTimeMillis'],\n",
    "    'country': x['country'],\n",
    "    'currency': x['currency'],\n",
    "    'primaryGenreName': x['primaryGenreName']\n",
    "}, data ) )"
   ]
  },
  {
   "cell_type": "code",
   "execution_count": 8,
   "metadata": {},
   "outputs": [],
   "source": [
    "def convert_millis(millis):\n",
    "    total_seconds = millis // 1000\n",
    "    seconds = total_seconds % 60\n",
    "    minutes = ( total_seconds // 60 ) % 60\n",
    "    hours = ( total_seconds // ( 60 * 60 ) )\n",
    "    return f\"{hours}:{minutes}:{seconds}\"\n",
    "\n",
    "def frequency_filter(filter_list):\n",
    "    filter_result = { i : filter_list.count(i) for i in filter_list }\n",
    "    return max( filter_result, key = filter_result.get )"
   ]
  },
  {
   "cell_type": "code",
   "execution_count": null,
   "metadata": {},
   "outputs": [],
   "source": [
    "print(f\"Название исполнителя: {frequency_filter(list(map(lambda x: x['artistName'], data)))}\")\n",
    "print(f\"Количество песен: {len(list(map(lambda x: x['trackName'], data)))}\")\n",
    "print(f\"Популярный жанр: {frequency_filter(list(map(lambda x: x['primaryGenreName'], data)))}\")\n",
    "print(f\"Количество альбомов: {len(list(set(map(lambda x: x['collectionName'], data))))}\")\n",
    "print(f\"Общая длительность песен: {convert_millis(sum(list(map(lambda x: x['trackTimeMillis'], data))))}\")\n",
    "print(f\"Средняя длительность песен: {convert_millis(round(statistics.mean(list(map(lambda x : x['trackTimeMillis'], data)))))}\")\n",
    "print(f\"Медиана длительности песен: {convert_millis(round(statistics.median(list(map(lambda x : x['trackTimeMillis'], data)))))}\")\n",
    "print(f\"Название самой долгой песни: {max(data, key = lambda x: x['trackTimeMillis'] )['trackName']}\")\n",
    "print(f\"Длительность самой долгой песни: {convert_millis(max( data, key = lambda x: x['trackTimeMillis'])['trackTimeMillis'])}\")\n",
    "print(f\"Название самой короткой песни: {min(data, key = lambda x: x['trackTimeMillis'] )['trackName']}\")\n",
    "print(f\"Длительность самой короткой песни: {convert_millis(min(data, key = lambda x: x['trackTimeMillis'])['trackTimeMillis'])}\")\n",
    "print(f\"Общая стоимость песен: {round(sum(list(map(lambda x: x['trackPrice'], data))), 2)}\")\n",
    "print(f\"Средняя стоимость песен: {round(statistics.mean(list(map(lambda x: x['trackPrice'], data))), 2)}\")\n",
    "print(f\"Медиана стоимости песен: {round(statistics.median(list(map(lambda x: x['trackPrice'], data))), 2)}\")\n",
    "print(f\"Название самой дорогой песни: {max(data, key = lambda x: x['trackPrice'])['trackName']}\")\n",
    "print(f\"Стоимость самой дорогой песни: {max(data, key = lambda x: x['trackPrice'])['trackPrice']}\")\n",
    "print(f\"Название самой дешевой песни: {min(data, key = lambda x: x['trackPrice'])['trackName']}\")\n",
    "print(f\"Стоимость самой дешевой песни: {min(data, key = lambda x: x['trackPrice'])['trackPrice']}\")"
   ]
  },
  {
   "cell_type": "code",
   "execution_count": null,
   "metadata": {},
   "outputs": [],
   "source": [
    "print( list( set( map( lambda x: x['collectionName'], data ) ) ) )"
   ]
  },
  {
   "cell_type": "code",
   "execution_count": null,
   "metadata": {},
   "outputs": [],
   "source": [
    "album_data = list( filter( lambda x:'Сохрани мою речь навсегда' in x['collectionName'], data ) )\n",
    "\n",
    "print(f\"Название альбома: {frequency_filter(list(map(lambda x: x['collectionName'], album_data)))}\") \n",
    "print(f\"Количество песен: {len(list(map(lambda x: x['trackName'], album_data)))}\")\n",
    "print(f\"Популярный жанр: {frequency_filter(list(map(lambda x: x['primaryGenreName'], album_data)))}\")\n",
    "print(f\"Дата релиза альбома: {list(map(lambda x: x['releaseDate'], album_data))[0]}\")\n",
    "print(f\"Общая длительность песен: {convert_millis(sum(list(map(lambda x: x['trackTimeMillis'], album_data))))}\")\n",
    "print(f\"Средняя длительность песен: {convert_millis(round(statistics.mean(list(map(lambda x : x['trackTimeMillis'], album_data)))))}\")\n",
    "print(f\"Медиана длительности песен: {convert_millis(round(statistics.median(list(map(lambda x : x['trackTimeMillis'], album_data)))))}\")\n",
    "print(f\"Название самой долгой песни: {max(album_data, key = lambda x: x['trackTimeMillis'] )['trackName']}\")\n",
    "print(f\"Длительность самой долгой песни: {convert_millis(max( album_data, key = lambda x: x['trackTimeMillis'])['trackTimeMillis'])}\")\n",
    "print(f\"Название самой короткой песни: {min(album_data, key = lambda x: x['trackTimeMillis'] )['trackName']}\")\n",
    "print(f\"Длительность самой короткой песни: {convert_millis(min(album_data, key = lambda x: x['trackTimeMillis'])['trackTimeMillis'])}\")\n",
    "print(f\"Общая стоимость песен: {round(sum(list(map(lambda x: x['trackPrice'], album_data))), 2)}\")\n",
    "print(f\"Средняя стоимость песен: {round(statistics.mean(list(map(lambda x: x['trackPrice'], album_data))), 2)}\")\n",
    "print(f\"Медиана стоимости песен: {round(statistics.median(list(map(lambda x: x['trackPrice'], album_data))), 2)}\")\n",
    "print(f\"Название самой дорогой песни: {max(album_data, key = lambda x: x['trackPrice'])['trackName']}\")\n",
    "print(f\"Стоимость самой дорогой песни: {max(album_data, key = lambda x: x['trackPrice'])['trackPrice']}\")\n",
    "print(f\"Название самой дешевой песни: {min(album_data, key = lambda x: x['trackPrice'])['trackName']}\")\n",
    "print(f\"Стоимость самой дешевой песни: {min(album_data, key = lambda x: x['trackPrice'])['trackPrice']}\")"
   ]
  }
 ],
 "metadata": {
  "kernelspec": {
   "display_name": "Python 3.10.8 64-bit",
   "language": "python",
   "name": "python3"
  },
  "language_info": {
   "codemirror_mode": {
    "name": "ipython",
    "version": 3
   },
   "file_extension": ".py",
   "mimetype": "text/x-python",
   "name": "python",
   "nbconvert_exporter": "python",
   "pygments_lexer": "ipython3",
   "version": "3.10.8"
  },
  "orig_nbformat": 4,
  "vscode": {
   "interpreter": {
    "hash": "204dec6eee1bb89f3143dfa3800dd25d78e3b85fd9b03aff5fb0030d54d1f605"
   }
  }
 },
 "nbformat": 4,
 "nbformat_minor": 2
}
